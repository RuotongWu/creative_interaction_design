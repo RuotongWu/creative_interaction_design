{
 "cells": [
  {
   "cell_type": "code",
   "execution_count": 1,
   "id": "1e6be32c-e5c4-4d3c-8434-f37e0f18ff9c",
   "metadata": {},
   "outputs": [
    {
     "data": {
      "text/plain": [
       "123"
      ]
     },
     "execution_count": 1,
     "metadata": {},
     "output_type": "execute_result"
    }
   ],
   "source": [
    "123"
   ]
  },
  {
   "cell_type": "code",
   "execution_count": 2,
   "id": "bf869ae7-9d12-47ff-bae7-b23c0e2075af",
   "metadata": {},
   "outputs": [
    {
     "data": {
      "text/plain": [
       "type[123]"
      ]
     },
     "execution_count": 2,
     "metadata": {},
     "output_type": "execute_result"
    }
   ],
   "source": [
    "type[123]"
   ]
  },
  {
   "cell_type": "code",
   "execution_count": 3,
   "id": "b34d73fe-ea82-4c46-b9dd-40dca65d00dd",
   "metadata": {},
   "outputs": [
    {
     "data": {
      "text/plain": [
       "int"
      ]
     },
     "execution_count": 3,
     "metadata": {},
     "output_type": "execute_result"
    }
   ],
   "source": [
    "type(123)"
   ]
  },
  {
   "cell_type": "code",
   "execution_count": 4,
   "id": "e5d743fa-d5db-4c01-941f-b2cf2990400d",
   "metadata": {},
   "outputs": [
    {
     "data": {
      "text/plain": [
       "123.45"
      ]
     },
     "execution_count": 4,
     "metadata": {},
     "output_type": "execute_result"
    }
   ],
   "source": [
    "123.45"
   ]
  },
  {
   "cell_type": "code",
   "execution_count": 5,
   "id": "7ac4d95f-23e0-4d12-875a-1709b5861d91",
   "metadata": {},
   "outputs": [
    {
     "data": {
      "text/plain": [
       "float"
      ]
     },
     "execution_count": 5,
     "metadata": {},
     "output_type": "execute_result"
    }
   ],
   "source": [
    "type(123.45)"
   ]
  },
  {
   "cell_type": "code",
   "execution_count": 7,
   "id": "9bfce153-1c71-49ab-96a6-1d0da0125b80",
   "metadata": {},
   "outputs": [
    {
     "data": {
      "text/plain": [
       "str"
      ]
     },
     "execution_count": 7,
     "metadata": {},
     "output_type": "execute_result"
    }
   ],
   "source": [
    "type(\"1111\")"
   ]
  },
  {
   "cell_type": "code",
   "execution_count": 8,
   "id": "aa238e81-288d-449f-8ea8-ce0c1ead0e31",
   "metadata": {},
   "outputs": [
    {
     "name": "stdout",
     "output_type": "stream",
     "text": [
      "Hello world!\n"
     ]
    }
   ],
   "source": [
    "print(\"Hello world!\")"
   ]
  },
  {
   "cell_type": "code",
   "execution_count": 9,
   "id": "6267070d-827d-4fb0-8107-b23c5e01570f",
   "metadata": {},
   "outputs": [
    {
     "name": "stdout",
     "output_type": "stream",
     "text": [
      "<class 'int'> <class 'float'> <class 'str'>\n"
     ]
    }
   ],
   "source": [
    "x=123\n",
    "y=123.45\n",
    "z=\"123.45\"\n",
    "print(type(x),type(y),type(z))"
   ]
  },
  {
   "cell_type": "code",
   "execution_count": 11,
   "id": "66321eb1-30f6-4c48-8ab8-b18175ca3f68",
   "metadata": {},
   "outputs": [
    {
     "name": "stdout",
     "output_type": "stream",
     "text": [
      "The result of 123+123.45=246.45\n"
     ]
    }
   ],
   "source": [
    "z=\"The result of \"+str(x)+\"+\"+str(y)+\"=\"+str(x+y)\n",
    "print(z)"
   ]
  },
  {
   "cell_type": "code",
   "execution_count": 12,
   "id": "6f780bff-866f-4e3d-86c2-9b8ad5e8bde8",
   "metadata": {},
   "outputs": [
    {
     "name": "stdout",
     "output_type": "stream",
     "text": [
      "I am\n",
      "I am from CUC.\n"
     ]
    }
   ],
   "source": [
    "z=\"I am from CUC.\"\n",
    "print(z[0:4])\n",
    "print(z[0:14])"
   ]
  },
  {
   "cell_type": "code",
   "execution_count": 1,
   "id": "dcd65a18-d4da-464a-9ea9-45e8c5ccbe29",
   "metadata": {},
   "outputs": [
    {
     "name": "stdout",
     "output_type": "stream",
     "text": [
      "[1, 2, 3, 4, 5]\n"
     ]
    }
   ],
   "source": [
    "tupe1 = (1,1.32,2,\"CUC\")\n",
    "list1 = [1,1.32,2,\"CUC\"]\n",
    "myList=[1,2,3,5,4]\n",
    "print(sorted(myList))"
   ]
  },
  {
   "cell_type": "code",
   "execution_count": 2,
   "id": "5336acd9-e1c7-423c-9096-f1736386c3a9",
   "metadata": {},
   "outputs": [
    {
     "name": "stdout",
     "output_type": "stream",
     "text": [
      "[100, 95, 85, 60, 65, 70]\n",
      "60\n",
      "[100, 95, 85, 60, 65, 70, 50]\n"
     ]
    }
   ],
   "source": [
    "score_list = [100,95,85,60,65,70]\n",
    "print(score_list)\n",
    "print(score_list[3])\n",
    "score_list.append(50)\n",
    "print(score_list)"
   ]
  },
  {
   "cell_type": "code",
   "execution_count": 3,
   "id": "37ff3418-035b-4741-b2b7-13ed906bbf77",
   "metadata": {},
   "outputs": [
    {
     "name": "stdout",
     "output_type": "stream",
     "text": [
      "[60, 65, 70]\n",
      "[100, 95, 85, 60, 65, 70]\n"
     ]
    }
   ],
   "source": [
    "del(score_list[6])\n",
    "print(score_list[3:7])\n",
    "print(score_list)"
   ]
  },
  {
   "cell_type": "code",
   "execution_count": 4,
   "id": "ee3f92da-9878-4763-8033-333f83fa5634",
   "metadata": {},
   "outputs": [
    {
     "name": "stdout",
     "output_type": "stream",
     "text": [
      "[100, 95, 85, 60, 65, 70, [1, 2, 3, 'I an from CUC', True]]\n"
     ]
    }
   ],
   "source": [
    "score_list.append([1,2,3,'I an from CUC',True])\n",
    "print(score_list)"
   ]
  },
  {
   "cell_type": "code",
   "execution_count": 5,
   "id": "9b3b4d3f-47f3-4aff-bb09-b085c1173bb4",
   "metadata": {},
   "outputs": [
    {
     "name": "stdout",
     "output_type": "stream",
     "text": [
      "[100, 95, 85, 60, 65, 70, [1, 2, 3, 'I an from CUC', True], [11, 22, 33, [44, 55, 66]]]\n"
     ]
    }
   ],
   "source": [
    "second_list = [11,22,33]\n",
    "second_list.append([44,55,66])\n",
    "score_list.append(second_list)\n",
    "print(score_list)"
   ]
  },
  {
   "cell_type": "code",
   "execution_count": 6,
   "id": "51373644-e5ca-4bbe-97d0-4626ba5d5804",
   "metadata": {},
   "outputs": [
    {
     "name": "stdout",
     "output_type": "stream",
     "text": [
      "[95, 85, 60, 65, 70, [1, 2, 3, 'I an from CUC', True], [11, 22, 33, [44, 55, 66]]]\n"
     ]
    }
   ],
   "source": [
    "score_list.remove(100)\n",
    "print(score_list)"
   ]
  },
  {
   "cell_type": "code",
   "execution_count": 7,
   "id": "c3492dfa-0d51-48fb-b6ce-025ea0abaf5f",
   "metadata": {},
   "outputs": [
    {
     "name": "stdout",
     "output_type": "stream",
     "text": [
      "{'Peter': 80, 'David': 90, 'Mary': 100}\n",
      "dict_keys(['Peter', 'David', 'Mary'])\n",
      "dict_values([80, 90, 100])\n",
      "90\n",
      "[{'Peter': 80, 'David': 90, 'Mary': 100}]\n"
     ]
    }
   ],
   "source": [
    "dict1 = {'Peter':80,'David':90,'Mary':100}\n",
    "print(dict1)\n",
    "print(dict1.keys())\n",
    "print(dict1.values())\n",
    "print(dict1['David'])\n",
    "score_list = []\n",
    "score_list.append(dict1)\n",
    "print(score_list)"
   ]
  },
  {
   "cell_type": "code",
   "execution_count": 8,
   "id": "94175a9d-18df-4dcb-aad3-f0171ed4486b",
   "metadata": {},
   "outputs": [
    {
     "name": "stdout",
     "output_type": "stream",
     "text": [
      "[{'Peter': 50, 'David': 60, 'Mary': 70}, {'Peter': 50, 'David': 70, 'Mary': 80}]\n"
     ]
    }
   ],
   "source": [
    "test1 = {'Peter':50,'David':60,'Mary':70}\n",
    "assignment1 = {'Peter':50,'David':70,'Mary':80}\n",
    "score_list = []\n",
    "score_list.append(test1)\n",
    "score_list.append(assignment1)\n",
    "print(score_list)"
   ]
  },
  {
   "cell_type": "code",
   "execution_count": 9,
   "id": "72b63cd7-9412-417a-af37-08a2bab0510e",
   "metadata": {},
   "outputs": [
    {
     "name": "stdout",
     "output_type": "stream",
     "text": [
      "{1, (1, 2, 3), 'Hello'}\n",
      "<class 'set'>\n"
     ]
    }
   ],
   "source": [
    "my_set={1,\"Hello\",(1,2,3)}\n",
    "print(my_set)\n",
    "print(type(my_set))"
   ]
  },
  {
   "cell_type": "code",
   "execution_count": 10,
   "id": "b933cb16-60fa-4824-bcc8-c9f1303ec0ef",
   "metadata": {},
   "outputs": [
    {
     "name": "stdout",
     "output_type": "stream",
     "text": [
      "{1, 2, 3, 4, 5}\n"
     ]
    }
   ],
   "source": [
    "my_set = {1,2,2,3,4,4,5}\n",
    "print(my_set)"
   ]
  },
  {
   "cell_type": "code",
   "execution_count": 12,
   "id": "96b7749b-c21d-4040-86a9-5ea888ce024d",
   "metadata": {},
   "outputs": [
    {
     "name": "stdout",
     "output_type": "stream",
     "text": [
      "1\n",
      "2\n",
      "3\n",
      "4\n",
      "5\n",
      "6\n",
      "7\n",
      "8\n",
      "9\n"
     ]
    }
   ],
   "source": [
    "i=1\n",
    "for i in range(1,10):\n",
    "    print(i)\n"
   ]
  },
  {
   "cell_type": "code",
   "execution_count": 14,
   "id": "a9a26362-afa4-440c-a0b2-75c580203337",
   "metadata": {},
   "outputs": [
    {
     "name": "stdout",
     "output_type": "stream",
     "text": [
      "Johnmakes1950.\n",
      "Mikemakes3000.\n",
      "Marymakes3250.\n",
      "Janemakes4500.\n"
     ]
    }
   ],
   "source": [
    "hrs_list=[30,40,50,60]\n",
    "rate_list=[65,75,65,75]\n",
    "name_list=[\"John\",\"Mike\",\"Mary\",\"Jane\"]\n",
    "fee_list=[]\n",
    "for number in range(len(name_list)):\n",
    "    hrs=hrs_list[number]\n",
    "    rate=rate_list[number]\n",
    "    fee=hrs*rate\n",
    "    fee_list.append(fee)\n",
    "    money_made=name_list[number]+\"makes\"+str(fee)+\".\"\n",
    "    print(money_made)"
   ]
  },
  {
   "cell_type": "code",
   "execution_count": 15,
   "id": "2bffd7e9-cb6b-4891-846e-207bfb94f12b",
   "metadata": {},
   "outputs": [
    {
     "name": "stdout",
     "output_type": "stream",
     "text": [
      "[['John', 'Mike', 'Mary', 'Jane'], [1950, 3000, 3250, 4500]]\n"
     ]
    }
   ],
   "source": [
    "money_list=[]\n",
    "money_list.append(name_list)\n",
    "money_list.append(fee_list)\n",
    "print(money_list)"
   ]
  },
  {
   "cell_type": "code",
   "execution_count": 16,
   "id": "764f1d37-b7bb-443f-b723-fcd342888b69",
   "metadata": {},
   "outputs": [
    {
     "name": "stdout",
     "output_type": "stream",
     "text": [
      "0 red\n",
      "1 green\n",
      "2 Blue is printed.\n",
      "3 orange\n",
      "4 black\n",
      "This is done.\n"
     ]
    }
   ],
   "source": [
    "my_list=[\"red\",\"green\",\"blue\",\"orange\",\"black\"]\n",
    "index=0\n",
    "for i in my_list:\n",
    "    if i==\"blue\":\n",
    "        print(index,\"Blue is printed.\")\n",
    "        index+=1\n",
    "    else:\n",
    "        print(index,my_list[index])\n",
    "        index=index+1\n",
    "print(\"This is done.\")"
   ]
  },
  {
   "cell_type": "code",
   "execution_count": null,
   "id": "25ed9970-c21b-4dab-96df-41132bca2d9e",
   "metadata": {},
   "outputs": [],
   "source": [
    "import pandas as pd\n",
    "df1=pd.Daqtaframe({\n",
    "    #Define dateframe as a dictionary abject\n",
    "    \"Product ID\":[1,2,3,4],\n",
    "    #Add product name and color\n",
    "    \"Product Name\":[\"T-shirt\",\"Shirt\",\"Jeans\",\"Coat\"],\n",
    "    \"Color\":[\"BLue\",\"Green\",\"Red\",\"Trench\"],\n",
    "    \"Unit sold\":[250,300,180,200]\n",
    "})\n",
    "print(df1)"
   ]
  },
  {
   "cell_type": "code",
   "execution_count": null,
   "id": "1082e116-0728-49e6-9d90-bc30d7620b75",
   "metadata": {},
   "outputs": [],
   "source": []
  }
 ],
 "metadata": {
  "kernelspec": {
   "display_name": "Python 3 (ipykernel)",
   "language": "python",
   "name": "python3"
  },
  "language_info": {
   "codemirror_mode": {
    "name": "ipython",
    "version": 3
   },
   "file_extension": ".py",
   "mimetype": "text/x-python",
   "name": "python",
   "nbconvert_exporter": "python",
   "pygments_lexer": "ipython3",
   "version": "3.11.7"
  }
 },
 "nbformat": 4,
 "nbformat_minor": 5
}
